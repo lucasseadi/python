{
 "cells": [
  {
   "cell_type": "markdown",
   "metadata": {},
   "source": [
    "Question #2 (100 points):\n",
    "Plot the training loss function for a neural network with four convolution layers on Iris and MNIST datasets."
   ]
  },
  {
   "cell_type": "code",
   "execution_count": 2,
   "metadata": {},
   "outputs": [
    {
     "name": "stdout",
     "output_type": "stream",
     "text": [
      "Please enter the dataset you wish to visualize (iris, mnist): mnist\n",
      "Dataset is being loaded...\n",
      "Algorithm is being run...\n",
      "Please wait...\n"
     ]
    },
    {
     "data": {
      "image/png": "[encoded data removed]",
      "text/plain": [
       "<Figure size 432x288 with 1 Axes>"
      ]
     },
     "metadata": {
      "needs_background": "light"
     },
     "output_type": "display_data"
    },
    {
     "name": "stdout",
     "output_type": "stream",
     "text": [
      "I'm done.\n"
     ]
    }
   ],
   "source": [
    "# Adapted from:\n",
    "# https://stackabuse.com/introduction-to-neural-networks-with-scikit-learn/\n",
    "# https://scikit-learn.org/stable/auto_examples/neural_networks/plot_mnist_filters.html\n",
    "\n",
    "import matplotlib.pyplot as plt\n",
    "import pandas as pd\n",
    "import warnings\n",
    "from sklearn import datasets, preprocessing\n",
    "from sklearn.datasets import fetch_openml\n",
    "from sklearn.exceptions import ConvergenceWarning\n",
    "from sklearn.model_selection import train_test_split\n",
    "from sklearn.neural_network import MLPClassifier\n",
    "from sklearn.preprocessing import StandardScaler\n",
    "\n",
    "def getDataIris():\n",
    "    # Location of dataset\n",
    "    url = \"https://archive.ics.uci.edu/ml/machine-learning-databases/iris/iris.data\"\n",
    "\n",
    "    # Assign colum names to the dataset\n",
    "    names = ['sepal-length', 'sepal-width', 'petal-length', 'petal-width', 'Class']\n",
    "\n",
    "    # Read dataset to pandas dataframe\n",
    "    iris = pd.read_csv(url, names=names)\n",
    "\n",
    "    # Assign data from first four columns to x variable\n",
    "    x = iris.iloc[:, 0:4]\n",
    "\n",
    "    # Assign data from fifth column to y variable\n",
    "    y = iris.select_dtypes(include=[object])\n",
    "    \n",
    "    # Preprocessing\n",
    "    le = preprocessing.LabelEncoder()\n",
    "    y = y.apply(le.fit_transform)\n",
    "\n",
    "    x_train, x_test, y_train, y_test = train_test_split(x, y, test_size = 0.3)\n",
    "    \n",
    "    return x_train, x_test, y_train, y_test\n",
    "\n",
    "def getDataMnist():\n",
    "    # Load data from https://www.openml.org/d/554\n",
    "    x, y = fetch_openml(\"mnist_784\", version=1, return_X_y=True, as_frame=False)\n",
    "    x = x / 255.0\n",
    "    x_train, x_test, y_train, y_test = train_test_split(x, y, test_size=0.3)\n",
    "    return x_train, x_test, y_train, y_test\n",
    "\n",
    "if __name__ == \"__main__\":\n",
    "    db, method, knn_weights = \"\", \"\", \"\"\n",
    "    while db not in (\"iris\", \"mnist\"):\n",
    "        db = input(\"Please enter the dataset you wish to visualize (iris, mnist): \").lower()\n",
    "        if db not in (\"iris\", \"mnist\"):\n",
    "            print(\"I'm sorry, I don't know this dataset...\")\n",
    "    print(\"Dataset is being loaded...\")\n",
    "    if db == \"iris\":\n",
    "        x_train, x_test, y_train, y_test = getDataIris()\n",
    "    else:\n",
    "        x_train, x_test, y_train, y_test = getDataMnist()\n",
    "        \n",
    "    print(\"Algorithm is being run...\")\n",
    "    print(\"Please wait...\")\n",
    "\n",
    "    # Scaling\n",
    "    scaler = StandardScaler()\n",
    "    scaler.fit(x_train)\n",
    "    x_train = scaler.transform(x_train)\n",
    "    x_test = scaler.transform(x_test)\n",
    "\n",
    "    # Training\n",
    "    mlp = MLPClassifier(hidden_layer_sizes=(10, 10, 10, 10), max_iter=50)\n",
    "\n",
    "    # This example won't converge, so we catch the warning and ignore it here\n",
    "    with warnings.catch_warnings():\n",
    "        warnings.filterwarnings(\"ignore\", category=ConvergenceWarning, module=\"sklearn\")\n",
    "        if db == \"iris\":\n",
    "            mlp.fit(x_train, y_train.values.ravel())\n",
    "        else:\n",
    "            mlp.fit(x_train, y_train.ravel())\n",
    "\n",
    "        # Predictions\n",
    "        predictions = mlp.predict(x_test)\n",
    "\n",
    "        # Training loss function\n",
    "        loss_values = mlp.loss_curve_\n",
    "        \n",
    "    plt.plot(loss_values)\n",
    "    plt.title(\"Training loss function with 4 convolution layers from dataset %s\" % db)\n",
    "    plt.xlabel(\"Interations\")\n",
    "    plt.ylabel(\"Loss\")\n",
    "    plt.show()\n",
    "        \n",
    "    print(\"I'm done.\")"
   ]
  },
  {
   "cell_type": "code",
   "execution_count": null,
   "metadata": {},
   "outputs": [],
   "source": []
  }
 ],
 "metadata": {
  "kernelspec": {
   "display_name": "Python 3 (ipykernel)",
   "language": "python",
   "name": "python3"
  },
  "language_info": {
   "codemirror_mode": {
    "name": "ipython",
    "version": 3
   },
   "file_extension": ".py",
   "mimetype": "text/x-python",
   "name": "python",
   "nbconvert_exporter": "python",
   "pygments_lexer": "ipython3",
   "version": "3.9.7"
  }
 },
 "nbformat": 4,
 "nbformat_minor": 4
}
