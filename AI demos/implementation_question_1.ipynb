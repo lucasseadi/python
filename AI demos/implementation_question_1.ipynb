{
 "cells": [
  {
   "cell_type": "markdown",
   "id": "6dd48f71",
   "metadata": {},
   "source": [
    "Question #1 (60 points):\n",
    "Run BFS, DFS, and A* on the aforementioned Figure-1."
   ]
  },
  {
   "cell_type": "code",
   "execution_count": 1,
   "id": "f90313a4",
   "metadata": {},
   "outputs": [],
   "source": [
    "graph = {\n",
    "    'Laval': ['Montreal', 'Quebec', 'Saguenay'],\n",
    "    'Montreal': [],\n",
    "    'Saguenay': ['Gaspesie'],\n",
    "    'Quebec': ['Levis', 'Gaspesie'],\n",
    "    'Levis': [],\n",
    "    'Gaspesie': []\n",
    "}"
   ]
  },
  {
   "cell_type": "code",
   "execution_count": 2,
   "id": "78ee747e",
   "metadata": {},
   "outputs": [
    {
     "name": "stdout",
     "output_type": "stream",
     "text": [
      "Laval Montreal Quebec Saguenay Levis Gaspesie "
     ]
    }
   ],
   "source": [
    "visited = []\n",
    "queue = []\n",
    "\n",
    "def bfs(graph, initial_node, visited, queue):\n",
    "    visited.append(initial_node)\n",
    "    queue.append(initial_node)\n",
    "    while queue:\n",
    "        current_node = queue.pop(0)\n",
    "        print(current_node, end = \" \")\n",
    "        \n",
    "        for child in graph[current_node]:\n",
    "            if child not in visited:\n",
    "                visited.append(child)\n",
    "                queue.append(child)\n",
    "\n",
    "bfs(graph, 'Laval', visited, queue)"
   ]
  },
  {
   "cell_type": "code",
   "execution_count": 3,
   "id": "e9c3231c",
   "metadata": {},
   "outputs": [
    {
     "name": "stdout",
     "output_type": "stream",
     "text": [
      "Laval Montreal Quebec Levis Gaspesie Saguenay "
     ]
    }
   ],
   "source": [
    "visited = set()\n",
    "\n",
    "def dfs(graph, node, visited):\n",
    "    print(node, end = \" \")\n",
    "    visited.add(node)\n",
    "    for child in graph[node]:\n",
    "        if child not in visited:\n",
    "            dfs(graph, child, visited)\n",
    "\n",
    "dfs(graph, 'Laval', visited)"
   ]
  },
  {
   "cell_type": "code",
   "execution_count": 4,
   "id": "d44a6d37",
   "metadata": {},
   "outputs": [
    {
     "name": "stdout",
     "output_type": "stream",
     "text": [
      "['Laval', 'Montreal', 'Quebec', 'Levis']\n"
     ]
    }
   ],
   "source": [
    "distances = {\n",
    "    'Laval' : { 'Montreal' : { 'g' : 12, 'h' : 20 },\n",
    "                'Quebec' : { 'g' : 117, 'h' : 289 },\n",
    "                'Saguenay' : { 'g' : 240, 'h' : 421 }\n",
    "              },\n",
    "    'Montreal' : { 'Laval' : { 'g' : 12, 'h' : 20 },\n",
    "                   'Quebec' : { 'g' : 121, 'h' : 270 }\n",
    "                 },\n",
    "    'Quebec' : { 'Laval' : { 'g' : 117, 'h' : 289 },\n",
    "                 'Montreal' : { 'g' : 121, 'h' : 270 },\n",
    "                 'Saguenay' : { 'g' : 162, 'h' : 234 },\n",
    "                 'Levis' : { 'g' : 24, 'h' : 55 },\n",
    "                 'Gaspesie' : { 'g' : 84, 'h' : 122 }\n",
    "               },\n",
    "    'Saguenay' : { 'Laval' : { 'g' : 240, 'h' : 421 },\n",
    "                   'Quebec' : { 'g' : 162, 'h' : 234 },\n",
    "                   'Gaspesie' : { 'g' : 56, 'h' : 109 }\n",
    "                 },\n",
    "    'Levis' : { 'Quebec' : { 'g' : 24, 'h' : 55 },\n",
    "                'Gaspesie' : { 'g' : 98, 'h' : 167 }\n",
    "              },\n",
    "    'Gaspesie' : { 'Quebec' : { 'g' : 84, 'h' : 122 },\n",
    "                   'Saguenay' : { 'g' : 56, 'h' : 109 },\n",
    "                   'Levis' : { 'g' : 98, 'h' : 167 }\n",
    "                 }\n",
    "}\n",
    "\n",
    "class node():\n",
    "    def __init__(self, name, parent=None):\n",
    "        self.parent = parent\n",
    "        self.name = name\n",
    "\n",
    "        self.g = 0\n",
    "        self.h = 0\n",
    "        self.f = 0\n",
    "\n",
    "    def __eq__(self, other):\n",
    "        return self.name == other.name\n",
    "\n",
    "def astar(graph, distances, start, end):\n",
    "    # Create start and end node\n",
    "    start_node = node(start, None)\n",
    "    start_node.g = start_node.h = start_node.f = 0\n",
    "    end_node = node(end, None)\n",
    "    end_node.g = end_node.h = end_node.f = 0\n",
    "    \n",
    "    # Initialize both open and closed list\n",
    "    open_list = []\n",
    "    closed_list = []\n",
    "\n",
    "    # Add the start node\n",
    "    open_list.append(start_node)\n",
    "\n",
    "    # Loop until you find the end\n",
    "    while len(open_list) > 0:\n",
    "\n",
    "        # Get the current node\n",
    "        current_node = open_list[0]\n",
    "        current_index = 0\n",
    "        for index, item in enumerate(open_list):\n",
    "            if item.f < current_node.f:\n",
    "                current_node = item\n",
    "                current_index = index\n",
    "                \n",
    "        # Pop current off open list, add to closed list\n",
    "        open_list.pop(current_index)\n",
    "        closed_list.append(current_node)\n",
    "\n",
    "        # Found the goal\n",
    "        if current_node == end_node:\n",
    "            path = []\n",
    "            current = current_node\n",
    "            while current is not None:\n",
    "                path.append(current.name)\n",
    "                current = current.parent\n",
    "            return path[::-1] # Return reversed path\n",
    "\n",
    "        # Generate children\n",
    "        children = []\n",
    "        \n",
    "        for name, distance in distances[current_node.name].items():\n",
    "            # Make sure parent is not generated\n",
    "            if current_node.parent is not None and name == current_node.parent.name:\n",
    "                continue\n",
    "            \n",
    "            # Create new node\n",
    "            new_node = node(name, current_node)\n",
    "\n",
    "            # Append\n",
    "            children.append(new_node)\n",
    "\n",
    "        #print(\"Children of\", current_node.name,\":\")\n",
    "\n",
    "        # Loop through children\n",
    "        for child in children:\n",
    "\n",
    "            # Child is on the closed list\n",
    "            for closed_child in closed_list:\n",
    "                if child == closed_child:\n",
    "                    continue\n",
    "\n",
    "            # Create the f, g, and h values\n",
    "            child.g = distances[child.parent.name][child.name]['g']\n",
    "            child.h = distances[child.parent.name][child.name]['h']\n",
    "            child.f = child.g + child.h\n",
    "            \n",
    "            # Child is already in the open list\n",
    "            for open_node in open_list:\n",
    "                if child == open_node and child.g > open_node.g:\n",
    "                    continue\n",
    "\n",
    "            # Add the child to the open list\n",
    "            open_list.append(child)\n",
    "        \n",
    "        #print(\"\\n\")\n",
    "            \n",
    "path = astar(graph, distances, 'Laval', 'Levis')\n",
    "print(path)"
   ]
  },
  {
   "cell_type": "code",
   "execution_count": null,
   "id": "aeb50f0c",
   "metadata": {},
   "outputs": [],
   "source": []
  }
 ],
 "metadata": {
  "kernelspec": {
   "display_name": "Python 3 (ipykernel)",
   "language": "python",
   "name": "python3"
  },
  "language_info": {
   "codemirror_mode": {
    "name": "ipython",
    "version": 3
   },
   "file_extension": ".py",
   "mimetype": "text/x-python",
   "name": "python",
   "nbconvert_exporter": "python",
   "pygments_lexer": "ipython3",
   "version": "3.9.7"
  }
 },
 "nbformat": 4,
 "nbformat_minor": 5
}
